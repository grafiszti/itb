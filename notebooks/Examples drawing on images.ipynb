{
 "cells": [
  {
   "cell_type": "markdown",
   "id": "a590343e",
   "metadata": {},
   "source": [
    "# Setup env"
   ]
  },
  {
   "cell_type": "code",
   "execution_count": 1,
   "id": "48609d75",
   "metadata": {},
   "outputs": [],
   "source": [
    "%%capture\n",
    "import sys\n",
    "if sys.version_info >= (3, 8):\n",
    "    print(\"Correct version of python installed.\")\n",
    "else:\n",
    "    !sudo apt-get update -y\n",
    "    !sudo apt-get install python3.9\n",
    "    !sudo update-alternatives --install /usr/bin/python3 python3 /usr/bin/python3.7 1\n",
    "    !sudo update-alternatives --install /usr/bin/python3 python3 /usr/bin/python3.9 2\n",
    "    print(\"Env upgraded.\")\n",
    "    \n",
    "try: \n",
    "    import itb\n",
    "except:\n",
    "    # Clone itb repository master branch and install all requirements and the library\n",
    "    !git clone https://github.com/grafiszti/itb.git\n",
    "    %cd /content/itb\n",
    "    !pip3 install -r requirements.txt\n",
    "    %cd /content"
   ]
  },
  {
   "cell_type": "markdown",
   "id": "359874c3",
   "metadata": {},
   "source": [
    "# Load libs"
   ]
  },
  {
   "cell_type": "code",
   "execution_count": 2,
   "id": "29a1a3e2",
   "metadata": {},
   "outputs": [],
   "source": [
    "%reload_ext autoreload\n",
    "%autoreload 2\n",
    "\n",
    "import os\n",
    "\n",
    "import numpy as np\n",
    "\n",
    "from itb.color import RED, BLUE, GREEN, TEAL, LIME\n",
    "from itb.img import add_rectangles, add_points, add_circles\n",
    "from itb.vis import draw"
   ]
  },
  {
   "cell_type": "markdown",
   "id": "71092ab1",
   "metadata": {},
   "source": [
    "# Drawing bboxes"
   ]
  },
  {
   "cell_type": "code",
   "execution_count": 3,
   "id": "b2108837",
   "metadata": {},
   "outputs": [
    {
     "data": {
      "image/png": "[encoded data removed]",
      "text/plain": [
       "<Figure size 360x360 with 1 Axes>"
      ]
     },
     "metadata": {
      "needs_background": "light"
     },
     "output_type": "display_data"
    }
   ],
   "source": [
    "img = np.zeros((100, 100, 3), dtype=np.uint8)\n",
    "\n",
    "# single rectangle\n",
    "img = add_rectangles(img, (10, 10, 50, 25), BLUE)\n",
    "\n",
    "# no default color given\n",
    "img = add_rectangles(img, [(50, 35, 25, 55)])\n",
    "\n",
    "# multtiple rectangles in one line\n",
    "img = add_rectangles(img, [(20, 20, 60, 70), [15, 15, 30, 30]], GREEN)\n",
    "\n",
    "# percentage value of a points\n",
    "img = add_rectangles(img, [(0.80, 0.80, 0.90, 0.90)], LIME, -1)\n",
    "\n",
    "draw(img, fig_size=(5, 5))"
   ]
  },
  {
   "cell_type": "markdown",
   "id": "d3ff660f",
   "metadata": {},
   "source": [
    "# Drawing circles"
   ]
  },
  {
   "cell_type": "code",
   "execution_count": 4,
   "id": "e2c53856",
   "metadata": {},
   "outputs": [
    {
     "data": {
      "image/png": "[encoded data removed]",
      "text/plain": [
       "<Figure size 360x360 with 1 Axes>"
      ]
     },
     "metadata": {
      "needs_background": "light"
     },
     "output_type": "display_data"
    }
   ],
   "source": [
    "img = np.zeros((100, 100, 3), dtype=np.uint8)\n",
    "\n",
    "img = add_circles(img, (10, 10), LIME, 6, -1)\n",
    "img = add_circles(img, [(20, 20), (50, 40), (.8, .7)])\n",
    "\n",
    "draw(img, fig_size=(5, 5))"
   ]
  },
  {
   "cell_type": "markdown",
   "id": "3930925e",
   "metadata": {},
   "source": [
    "# Drawing points"
   ]
  },
  {
   "cell_type": "code",
   "execution_count": 5,
   "id": "754f41cd",
   "metadata": {},
   "outputs": [
    {
     "data": {
      "image/png": "[encoded data removed]",
      "text/plain": [
       "<Figure size 360x360 with 1 Axes>"
      ]
     },
     "metadata": {
      "needs_background": "light"
     },
     "output_type": "display_data"
    }
   ],
   "source": [
    "img = np.zeros((100, 100, 3), dtype=np.uint8)\n",
    "\n",
    "img = add_points(img, (10, 10), LIME, 2, -1)\n",
    "img = add_points(img, [(20, 20), (50, 40), (.8, .9)])\n",
    "\n",
    "draw(img, fig_size=(5, 5))"
   ]
  }
 ],
 "metadata": {
  "kernelspec": {
   "display_name": "Python 3 (ipykernel)",
   "language": "python",
   "name": "python3"
  },
  "language_info": {
   "codemirror_mode": {
    "name": "ipython",
    "version": 3
   },
   "file_extension": ".py",
   "mimetype": "text/x-python",
   "name": "python",
   "nbconvert_exporter": "python",
   "pygments_lexer": "ipython3",
   "version": "3.8.13"
  }
 },
 "nbformat": 4,
 "nbformat_minor": 5
}
